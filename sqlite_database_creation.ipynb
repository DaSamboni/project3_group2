{
 "cells": [
  {
   "cell_type": "code",
   "execution_count": 6,
   "id": "94f50a91",
   "metadata": {},
   "outputs": [],
   "source": [
    "# import SQL Alchemy\n",
    "from sqlalchemy import create_engine\n",
    "\n",
    "# Import and establesh BAse for which classes will be constructed\n",
    "from sqlalchemy.ext.declarative import declarative_base\n",
    "Base = declarative_base()\n",
    "\n",
    "# Python SQL toolkit and Object Relational Mapper\n",
    "import sqlalchemy\n",
    "from sqlalchemy.ext.automap import automap_base\n",
    "\n",
    "# Import modules to declare columns and column data type\n",
    "from sqlalchemy import Column, Integer, String\n",
    "\n",
    "# Import Session to push objects made and query the server.\n",
    "from sqlalchemy.orm import Session\n",
    "\n",
    "import pandas as pd"
   ]
  },
  {
   "cell_type": "code",
   "execution_count": null,
   "id": "48ceb995",
   "metadata": {},
   "outputs": [],
   "source": [
    "# Create Accident Class\n",
    "class Accident(Base):\n",
    "    __tablename__ = \"accidents\"\n",
    "    id = Column(Integer,primary_key=True)\n",
    "    case_num = Column(Integer)\n",
    "    veh_num = Column(Integer)\n",
    "    region = Column(String)\n",
    "    region_num = Column(Integer)\n",
    "    month = Column(String)\n",
    "    hour = Column(String)\n",
    "    make = Column(String)\n",
    "    passenger_inj = Column(String)\n",
    "    num_injured = Column(Integer)\n",
    "    alcohol_involved = Column(String)\n",
    "    situation = Column(String,)\n",
    "    road_condition = Column(String)\n",
    "    veh_damage = Column(String)"
   ]
  },
  {
   "cell_type": "code",
   "execution_count": null,
   "id": "363037c2",
   "metadata": {},
   "outputs": [],
   "source": []
  },
  {
   "cell_type": "code",
   "execution_count": null,
   "id": "7df6c474",
   "metadata": {},
   "outputs": [],
   "source": []
  },
  {
   "cell_type": "code",
   "execution_count": null,
   "id": "3be7b191",
   "metadata": {},
   "outputs": [],
   "source": []
  },
  {
   "cell_type": "code",
   "execution_count": null,
   "id": "da2527eb",
   "metadata": {},
   "outputs": [],
   "source": []
  },
  {
   "cell_type": "code",
   "execution_count": null,
   "id": "1320b75d",
   "metadata": {},
   "outputs": [],
   "source": []
  },
  {
   "cell_type": "code",
   "execution_count": null,
   "id": "53e8b827",
   "metadata": {},
   "outputs": [],
   "source": []
  }
 ],
 "metadata": {
  "kernelspec": {
   "display_name": "Python 3 (ipykernel)",
   "language": "python",
   "name": "python3"
  },
  "language_info": {
   "codemirror_mode": {
    "name": "ipython",
    "version": 3
   },
   "file_extension": ".py",
   "mimetype": "text/x-python",
   "name": "python",
   "nbconvert_exporter": "python",
   "pygments_lexer": "ipython3",
   "version": "3.10.13"
  }
 },
 "nbformat": 4,
 "nbformat_minor": 5
}
