{
 "cells": [
  {
   "cell_type": "code",
   "execution_count": 35,
   "id": "94f50a91",
   "metadata": {},
   "outputs": [],
   "source": [
    "# import SQL Alchemy\n",
    "from sqlalchemy import create_engine\n",
    "\n",
    "# Import and establesh BAse for which classes will be constructed\n",
    "from sqlalchemy.ext.declarative import declarative_base\n",
    "Base = declarative_base()\n",
    "\n",
    "# Python SQL toolkit and Object Relational Mapper\n",
    "import sqlalchemy\n",
    "from sqlalchemy.ext.automap import automap_base\n",
    "\n",
    "# Import modules to declare columns and column data type\n",
    "from sqlalchemy import Column, Integer, String\n",
    "\n",
    "# Import Session to push objects made and query the server.\n",
    "from sqlalchemy.orm import Session\n",
    "\n",
    "import pandas as pd"
   ]
  },
  {
   "cell_type": "code",
   "execution_count": 36,
   "id": "48ceb995",
   "metadata": {},
   "outputs": [],
   "source": [
    "# Create Accident Class\n",
    "class Accident(Base):\n",
    "    __tablename__ = \"accidents\"\n",
    "    id = Column(Integer,primary_key=True)\n",
    "    case_num = Column(Integer)\n",
    "    veh_num = Column(Integer)\n",
    "    region = Column(String)\n",
    "    region_num = Column(Integer)\n",
    "    month = Column(String)\n",
    "    hour = Column(String)\n",
    "    make = Column(String)\n",
    "    passenger_inj = Column(String)\n",
    "    num_injured = Column(Integer)\n",
    "    alcohol_involved = Column(String)\n",
    "    road_condition = Column(String)\n",
    "    veh_damage = Column(String)"
   ]
  },
  {
   "cell_type": "code",
   "execution_count": 37,
   "id": "363037c2",
   "metadata": {},
   "outputs": [],
   "source": [
    "# Create and establish Database Connection\n",
    "engine = create_engine(\"sqlite:///accidents.sqlite\")\n",
    "conn = engine.connect()\n",
    "\n",
    "# Create Accident table within the database\n",
    "Base.metadata.create_all(conn)"
   ]
  },
  {
   "cell_type": "code",
   "execution_count": 38,
   "id": "7df6c474",
   "metadata": {},
   "outputs": [],
   "source": [
    "# Create Session to push the objects made and query the server.\n",
    "session = Session(bind=engine)"
   ]
  },
  {
   "cell_type": "markdown",
   "id": "d25f0d5a",
   "metadata": {},
   "source": [
    "# Reading CSV File "
   ]
  },
  {
   "cell_type": "code",
   "execution_count": 39,
   "id": "dd55f788",
   "metadata": {},
   "outputs": [
    {
     "data": {
      "text/html": [
       "<div>\n",
       "<style scoped>\n",
       "    .dataframe tbody tr th:only-of-type {\n",
       "        vertical-align: middle;\n",
       "    }\n",
       "\n",
       "    .dataframe tbody tr th {\n",
       "        vertical-align: top;\n",
       "    }\n",
       "\n",
       "    .dataframe thead th {\n",
       "        text-align: right;\n",
       "    }\n",
       "</style>\n",
       "<table border=\"1\" class=\"dataframe\">\n",
       "  <thead>\n",
       "    <tr style=\"text-align: right;\">\n",
       "      <th></th>\n",
       "      <th>Unnamed: 0</th>\n",
       "      <th>CASENUM</th>\n",
       "      <th>VEH_NO_x</th>\n",
       "      <th>REGIONNAME_x</th>\n",
       "      <th>REGION_x</th>\n",
       "      <th>HOURNAME_x</th>\n",
       "      <th>MONTHNAME_x</th>\n",
       "      <th>MAKENAME_x</th>\n",
       "      <th>MAX_SEVNAME</th>\n",
       "      <th>NUM_INJV</th>\n",
       "      <th>VEH_ALCHNAME</th>\n",
       "      <th>VSURCONDNAME</th>\n",
       "      <th>DEFORMEDNAME</th>\n",
       "    </tr>\n",
       "  </thead>\n",
       "  <tbody>\n",
       "    <tr>\n",
       "      <th>0</th>\n",
       "      <td>0</td>\n",
       "      <td>201901174219</td>\n",
       "      <td>1</td>\n",
       "      <td>South (MD, DE, DC, WV, VA, KY, TN, NC, SC, GA,...</td>\n",
       "      <td>3</td>\n",
       "      <td>8:00am-8:59am</td>\n",
       "      <td>January</td>\n",
       "      <td>Ford</td>\n",
       "      <td>No Apparent Injury (O)</td>\n",
       "      <td>0</td>\n",
       "      <td>No Alcohol Involved</td>\n",
       "      <td>Wet</td>\n",
       "      <td>Disabling Damage</td>\n",
       "    </tr>\n",
       "    <tr>\n",
       "      <th>1</th>\n",
       "      <td>1</td>\n",
       "      <td>201901176655</td>\n",
       "      <td>1</td>\n",
       "      <td>South (MD, DE, DC, WV, VA, KY, TN, NC, SC, GA,...</td>\n",
       "      <td>3</td>\n",
       "      <td>2:00am-2:59am</td>\n",
       "      <td>January</td>\n",
       "      <td>Dodge</td>\n",
       "      <td>Possible Injury (C)</td>\n",
       "      <td>1</td>\n",
       "      <td>Reported as Unknown</td>\n",
       "      <td>Dry</td>\n",
       "      <td>Functional Damage</td>\n",
       "    </tr>\n",
       "    <tr>\n",
       "      <th>2</th>\n",
       "      <td>13</td>\n",
       "      <td>201901176667</td>\n",
       "      <td>1</td>\n",
       "      <td>South (MD, DE, DC, WV, VA, KY, TN, NC, SC, GA,...</td>\n",
       "      <td>3</td>\n",
       "      <td>5:00am-5:59am</td>\n",
       "      <td>January</td>\n",
       "      <td>Nissan/Datsun</td>\n",
       "      <td>Suspected Minor Injury (B)</td>\n",
       "      <td>1</td>\n",
       "      <td>Alcohol Involved</td>\n",
       "      <td>Dry</td>\n",
       "      <td>Disabling Damage</td>\n",
       "    </tr>\n",
       "    <tr>\n",
       "      <th>3</th>\n",
       "      <td>17</td>\n",
       "      <td>201901176694</td>\n",
       "      <td>1</td>\n",
       "      <td>South (MD, DE, DC, WV, VA, KY, TN, NC, SC, GA,...</td>\n",
       "      <td>3</td>\n",
       "      <td>4:00am-4:59am</td>\n",
       "      <td>January</td>\n",
       "      <td>Mazda</td>\n",
       "      <td>No Apparent Injury (O)</td>\n",
       "      <td>0</td>\n",
       "      <td>No Alcohol Involved</td>\n",
       "      <td>Dry</td>\n",
       "      <td>Disabling Damage</td>\n",
       "    </tr>\n",
       "    <tr>\n",
       "      <th>4</th>\n",
       "      <td>18</td>\n",
       "      <td>201901176702</td>\n",
       "      <td>1</td>\n",
       "      <td>South (MD, DE, DC, WV, VA, KY, TN, NC, SC, GA,...</td>\n",
       "      <td>3</td>\n",
       "      <td>9:00am-9:59am</td>\n",
       "      <td>January</td>\n",
       "      <td>Toyota</td>\n",
       "      <td>Possible Injury (C)</td>\n",
       "      <td>0</td>\n",
       "      <td>No Alcohol Involved</td>\n",
       "      <td>Dry</td>\n",
       "      <td>Minor Damage</td>\n",
       "    </tr>\n",
       "  </tbody>\n",
       "</table>\n",
       "</div>"
      ],
      "text/plain": [
       "   Unnamed: 0       CASENUM  VEH_NO_x  \\\n",
       "0           0  201901174219         1   \n",
       "1           1  201901176655         1   \n",
       "2          13  201901176667         1   \n",
       "3          17  201901176694         1   \n",
       "4          18  201901176702         1   \n",
       "\n",
       "                                        REGIONNAME_x  REGION_x     HOURNAME_x  \\\n",
       "0  South (MD, DE, DC, WV, VA, KY, TN, NC, SC, GA,...         3  8:00am-8:59am   \n",
       "1  South (MD, DE, DC, WV, VA, KY, TN, NC, SC, GA,...         3  2:00am-2:59am   \n",
       "2  South (MD, DE, DC, WV, VA, KY, TN, NC, SC, GA,...         3  5:00am-5:59am   \n",
       "3  South (MD, DE, DC, WV, VA, KY, TN, NC, SC, GA,...         3  4:00am-4:59am   \n",
       "4  South (MD, DE, DC, WV, VA, KY, TN, NC, SC, GA,...         3  9:00am-9:59am   \n",
       "\n",
       "  MONTHNAME_x     MAKENAME_x                 MAX_SEVNAME  NUM_INJV  \\\n",
       "0     January           Ford      No Apparent Injury (O)         0   \n",
       "1     January          Dodge         Possible Injury (C)         1   \n",
       "2     January  Nissan/Datsun  Suspected Minor Injury (B)         1   \n",
       "3     January          Mazda      No Apparent Injury (O)         0   \n",
       "4     January         Toyota         Possible Injury (C)         0   \n",
       "\n",
       "          VEH_ALCHNAME VSURCONDNAME       DEFORMEDNAME  \n",
       "0  No Alcohol Involved          Wet   Disabling Damage  \n",
       "1  Reported as Unknown          Dry  Functional Damage  \n",
       "2     Alcohol Involved          Dry   Disabling Damage  \n",
       "3  No Alcohol Involved          Dry   Disabling Damage  \n",
       "4  No Alcohol Involved          Dry       Minor Damage  "
      ]
     },
     "execution_count": 39,
     "metadata": {},
     "output_type": "execute_result"
    }
   ],
   "source": [
    "path = \"Resources/final_merge.csv\"\n",
    "data = pd.read_csv(path)\n",
    "data_df = pd.DataFrame(data)\n",
    "data_df.head()"
   ]
  },
  {
   "cell_type": "code",
   "execution_count": 40,
   "id": "53e8b827",
   "metadata": {},
   "outputs": [
    {
     "data": {
      "text/plain": [
       "array(['South (MD, DE, DC, WV, VA, KY, TN, NC, SC, GA, FL, AL, MS, LA, AR, OK, TX)',\n",
       "       'West (MT, ID, WA, OR, CA, NV, NM, AZ, UT, CO, WY, AK, HI)',\n",
       "       'Midwest (OH, IN, IL, MI, WI, MN, ND, SD, NE, IA, MO, KS)',\n",
       "       'Northeast (PA, NJ, NY, NH, VT, RI, MA, ME, CT)'], dtype=object)"
      ]
     },
     "execution_count": 40,
     "metadata": {},
     "output_type": "execute_result"
    }
   ],
   "source": [
    "regions = data_df['REGIONNAME_x'].unique()\n",
    "regions"
   ]
  },
  {
   "cell_type": "code",
   "execution_count": 42,
   "id": "51dd4f72",
   "metadata": {},
   "outputs": [
    {
     "data": {
      "text/plain": [
       "array(['South', 'West', 'Mid West', 'North East'], dtype=object)"
      ]
     },
     "execution_count": 42,
     "metadata": {},
     "output_type": "execute_result"
    }
   ],
   "source": [
    "# Clean RegionName of the list of states for each region\n",
    "region_name = data_df['REGIONNAME_x']\n",
    "for i in range(len(data_df['REGIONNAME_x'])):\n",
    "    row = data_df['REGIONNAME_x'][i]\n",
    "    if row == regions[0]:\n",
    "        region_name[i] = \"South\"\n",
    "    elif row == regions[1]:\n",
    "        region_name[i] = \"West\"\n",
    "    elif row == regions[2]:\n",
    "        region_name[i] = \"Mid West\"\n",
    "    elif row == regions[3]:\n",
    "        region_name[i] = \"North East\"\n",
    "region_name.unique()"
   ]
  },
  {
   "cell_type": "code",
   "execution_count": 43,
   "id": "6efc8844",
   "metadata": {},
   "outputs": [
    {
     "data": {
      "text/plain": [
       "array(['South', 'West', 'Mid West', 'North East'], dtype=object)"
      ]
     },
     "execution_count": 43,
     "metadata": {},
     "output_type": "execute_result"
    }
   ],
   "source": [
    "# Assessing the region_name to the correct column in the DataFrame\n",
    "data_df['REGIONNAME_x'] = region_name\n",
    "data_df['REGIONNAME_x'].unique()"
   ]
  },
  {
   "cell_type": "code",
   "execution_count": 44,
   "id": "7623e2a8",
   "metadata": {},
   "outputs": [
    {
     "data": {
      "text/plain": [
       "Unnamed: 0       int64\n",
       "CASENUM          int64\n",
       "VEH_NO_x         int64\n",
       "REGIONNAME_x    object\n",
       "REGION_x         int64\n",
       "HOURNAME_x      object\n",
       "MONTHNAME_x     object\n",
       "MAKENAME_x      object\n",
       "MAX_SEVNAME     object\n",
       "NUM_INJV         int64\n",
       "VEH_ALCHNAME    object\n",
       "VSURCONDNAME    object\n",
       "DEFORMEDNAME    object\n",
       "dtype: object"
      ]
     },
     "execution_count": 44,
     "metadata": {},
     "output_type": "execute_result"
    }
   ],
   "source": [
    "data_df.dtypes"
   ]
  },
  {
   "cell_type": "code",
   "execution_count": 45,
   "id": "51278a6b",
   "metadata": {},
   "outputs": [
    {
     "name": "stdout",
     "output_type": "stream",
     "text": [
      "{'Unnamed: 0': array([     0,      1,     13, ..., 166498, 166499, 166503])}\n",
      "{'CASENUM': array([201901174219, 201901176655, 201901176667, ..., 201901848683,\n",
      "       201901848693, 201901848697])}\n",
      "{'VEH_NO_x': array([1, 2, 3, 4])}\n",
      "{'REGIONNAME_x': array(['South', 'West', 'Mid West', 'North East'], dtype=object)}\n",
      "{'REGION_x': array([3, 4, 2, 1])}\n",
      "{'HOURNAME_x': array(['8:00am-8:59am', '2:00am-2:59am', '5:00am-5:59am', '4:00am-4:59am',\n",
      "       '9:00am-9:59am', '7:00pm-7:59pm', '12:00pm-12:59pm',\n",
      "       '6:00am-6:59am', '10:00am-10:59am', '11:00am-11:59am',\n",
      "       '1:00am-1:59am', '1:00pm-1:59pm', '6:00pm-6:59pm', '3:00pm-3:59pm',\n",
      "       '10:00pm-10:59pm', '2:00pm-2:59pm', '5:00pm-5:59pm',\n",
      "       'Unknown Hours', '3:00am-3:59am', '4:00pm-4:59pm', '7:00am-7:59am',\n",
      "       '8:00pm-8:59pm', '11:00pm-11:59pm', '9:00pm-9:59pm',\n",
      "       '0:00am-0:59am'], dtype=object)}\n",
      "{'MONTHNAME_x': array(['January', 'February', 'March', 'April', 'May', 'June', 'July',\n",
      "       'August', 'September'], dtype=object)}\n",
      "{'MAKENAME_x': array(['Ford', 'Dodge', 'Nissan/Datsun', 'Mazda', 'Toyota', 'Volvo',\n",
      "       'Chevrolet', 'Jeep / Kaiser-Jeep / Willys- Jeep', 'Infiniti',\n",
      "       'Acura', 'Volkswagen', 'Peterbilt', 'Honda', 'Unknown Make',\n",
      "       'Lexus', 'Freightliner', 'Mercury', 'Chrysler', 'Buick / Opel',\n",
      "       'Suzuki', 'Subaru', 'Mack', 'AM General', 'Pontiac', 'KIA', 'GMC',\n",
      "       'Land Rover', 'Hyundai', 'Lincoln', 'BMW', 'Mitsubishi',\n",
      "       'Cadillac', 'Oldsmobile', 'Mercedes-Benz',\n",
      "       'International Harvester/Navistar', 'Kawasaki', 'Fiat',\n",
      "       'Not Reported', 'Other Make', 'Harley-Davidson', 'Other Import',\n",
      "       'Kenworth', 'Isuzu', 'Audi', 'Saturn', 'Gillig', 'Smart',\n",
      "       'Bluebird', 'Yamaha', 'Thomas Built', 'Scion',\n",
      "       'Other Domestic Manufacturers', 'MCI', 'Jaguar', 'Ducati', 'Saab',\n",
      "       'Porsche', 'Plymouth', 'Triumph', 'Victory',\n",
      "       'White/Autocar White/GMC', 'Grumman', 'Alfa Romeo',\n",
      "       'American Motors'], dtype=object)}\n",
      "{'MAX_SEVNAME': array(['No Apparent Injury (O)', 'Possible Injury (C)',\n",
      "       'Suspected Minor Injury (B)', 'Suspected Serious Injury (A)',\n",
      "       'Fatal Injury (K)', 'Died Prior to Crash*', 'Unknown/Not Reported',\n",
      "       'Injured, Severity Unknown'], dtype=object)}\n",
      "{'NUM_INJV': array([ 0,  1, 99,  2,  6,  3,  7, 98,  5,  4,  8])}\n",
      "{'VEH_ALCHNAME': array(['No Alcohol Involved', 'Reported as Unknown', 'Alcohol Involved',\n",
      "       'No Driver Present'], dtype=object)}\n",
      "{'VSURCONDNAME': array(['Wet', 'Dry', 'Non-Trafficway or Driveway Access', 'Ice/Frost',\n",
      "       'Not Reported', 'Reported as Unknown', 'Snow', 'Slush',\n",
      "       'Mud, Dirt or Gravel', 'Water (Standing or Moving)', 'Other',\n",
      "       'Sand', 'Oil'], dtype=object)}\n",
      "{'DEFORMEDNAME': array(['Disabling Damage', 'Functional Damage', 'Minor Damage',\n",
      "       'Not Reported', 'No Damage', 'Reported as Unknown'], dtype=object)}\n"
     ]
    }
   ],
   "source": [
    "for column in data.columns:\n",
    "    print({column: data[column].unique()})"
   ]
  },
  {
   "cell_type": "markdown",
   "id": "75222759",
   "metadata": {},
   "source": [
    "# From DataFrame to Database"
   ]
  },
  {
   "cell_type": "code",
   "execution_count": 46,
   "id": "ec6644ce",
   "metadata": {},
   "outputs": [
    {
     "ename": "IntegrityError",
     "evalue": "(sqlite3.IntegrityError) UNIQUE constraint failed: accidents.id\n[SQL: INSERT INTO accidents (id, case_num, veh_num, region, region_num, month, hour, make, passenger_inj, num_injured, alcohol_involved, road_condition, veh_damage) VALUES (?, ?, ?, ?, ?, ?, ?, ?, ?, ?, ?, ?, ?)]\n[parameters: (0, 201901174219, 1, 'South', 3, 'January', '8:00am-8:59am', 'Ford', 'No Apparent Injury (O)', 0, 'No Alcohol Involved', 'Wet', 'Disabling Damage')]\n(Background on this error at: https://sqlalche.me/e/14/gkpj)",
     "output_type": "error",
     "traceback": [
      "\u001b[0;31m---------------------------------------------------------------------------\u001b[0m",
      "\u001b[0;31mIntegrityError\u001b[0m                            Traceback (most recent call last)",
      "File \u001b[0;32m~/opt/anaconda3/envs/dev/lib/python3.10/site-packages/sqlalchemy/engine/base.py:1819\u001b[0m, in \u001b[0;36mConnection._execute_context\u001b[0;34m(self, dialect, constructor, statement, parameters, execution_options, *args, **kw)\u001b[0m\n\u001b[1;32m   1818\u001b[0m     \u001b[38;5;28;01mif\u001b[39;00m \u001b[38;5;129;01mnot\u001b[39;00m evt_handled:\n\u001b[0;32m-> 1819\u001b[0m         \u001b[38;5;28;43mself\u001b[39;49m\u001b[38;5;241;43m.\u001b[39;49m\u001b[43mdialect\u001b[49m\u001b[38;5;241;43m.\u001b[39;49m\u001b[43mdo_execute\u001b[49m\u001b[43m(\u001b[49m\n\u001b[1;32m   1820\u001b[0m \u001b[43m            \u001b[49m\u001b[43mcursor\u001b[49m\u001b[43m,\u001b[49m\u001b[43m \u001b[49m\u001b[43mstatement\u001b[49m\u001b[43m,\u001b[49m\u001b[43m \u001b[49m\u001b[43mparameters\u001b[49m\u001b[43m,\u001b[49m\u001b[43m \u001b[49m\u001b[43mcontext\u001b[49m\n\u001b[1;32m   1821\u001b[0m \u001b[43m        \u001b[49m\u001b[43m)\u001b[49m\n\u001b[1;32m   1823\u001b[0m \u001b[38;5;28;01mif\u001b[39;00m \u001b[38;5;28mself\u001b[39m\u001b[38;5;241m.\u001b[39m_has_events \u001b[38;5;129;01mor\u001b[39;00m \u001b[38;5;28mself\u001b[39m\u001b[38;5;241m.\u001b[39mengine\u001b[38;5;241m.\u001b[39m_has_events:\n",
      "File \u001b[0;32m~/opt/anaconda3/envs/dev/lib/python3.10/site-packages/sqlalchemy/engine/default.py:732\u001b[0m, in \u001b[0;36mDefaultDialect.do_execute\u001b[0;34m(self, cursor, statement, parameters, context)\u001b[0m\n\u001b[1;32m    731\u001b[0m \u001b[38;5;28;01mdef\u001b[39;00m \u001b[38;5;21mdo_execute\u001b[39m(\u001b[38;5;28mself\u001b[39m, cursor, statement, parameters, context\u001b[38;5;241m=\u001b[39m\u001b[38;5;28;01mNone\u001b[39;00m):\n\u001b[0;32m--> 732\u001b[0m     \u001b[43mcursor\u001b[49m\u001b[38;5;241;43m.\u001b[39;49m\u001b[43mexecute\u001b[49m\u001b[43m(\u001b[49m\u001b[43mstatement\u001b[49m\u001b[43m,\u001b[49m\u001b[43m \u001b[49m\u001b[43mparameters\u001b[49m\u001b[43m)\u001b[49m\n",
      "\u001b[0;31mIntegrityError\u001b[0m: UNIQUE constraint failed: accidents.id",
      "\nThe above exception was the direct cause of the following exception:\n",
      "\u001b[0;31mIntegrityError\u001b[0m                            Traceback (most recent call last)",
      "Cell \u001b[0;32mIn[46], line 22\u001b[0m\n\u001b[1;32m     20\u001b[0m session\u001b[38;5;241m.\u001b[39madd(accident)\n\u001b[1;32m     21\u001b[0m \u001b[38;5;66;03m# commit object to the Database\u001b[39;00m\n\u001b[0;32m---> 22\u001b[0m \u001b[43msession\u001b[49m\u001b[38;5;241;43m.\u001b[39;49m\u001b[43mcommit\u001b[49m\u001b[43m(\u001b[49m\u001b[43m)\u001b[49m\n",
      "File \u001b[0;32m~/opt/anaconda3/envs/dev/lib/python3.10/site-packages/sqlalchemy/orm/session.py:1451\u001b[0m, in \u001b[0;36mSession.commit\u001b[0;34m(self)\u001b[0m\n\u001b[1;32m   1448\u001b[0m     \u001b[38;5;28;01mif\u001b[39;00m \u001b[38;5;129;01mnot\u001b[39;00m \u001b[38;5;28mself\u001b[39m\u001b[38;5;241m.\u001b[39m_autobegin():\n\u001b[1;32m   1449\u001b[0m         \u001b[38;5;28;01mraise\u001b[39;00m sa_exc\u001b[38;5;241m.\u001b[39mInvalidRequestError(\u001b[38;5;124m\"\u001b[39m\u001b[38;5;124mNo transaction is begun.\u001b[39m\u001b[38;5;124m\"\u001b[39m)\n\u001b[0;32m-> 1451\u001b[0m \u001b[38;5;28;43mself\u001b[39;49m\u001b[38;5;241;43m.\u001b[39;49m\u001b[43m_transaction\u001b[49m\u001b[38;5;241;43m.\u001b[39;49m\u001b[43mcommit\u001b[49m\u001b[43m(\u001b[49m\u001b[43m_to_root\u001b[49m\u001b[38;5;241;43m=\u001b[39;49m\u001b[38;5;28;43mself\u001b[39;49m\u001b[38;5;241;43m.\u001b[39;49m\u001b[43mfuture\u001b[49m\u001b[43m)\u001b[49m\n",
      "File \u001b[0;32m~/opt/anaconda3/envs/dev/lib/python3.10/site-packages/sqlalchemy/orm/session.py:829\u001b[0m, in \u001b[0;36mSessionTransaction.commit\u001b[0;34m(self, _to_root)\u001b[0m\n\u001b[1;32m    827\u001b[0m \u001b[38;5;28mself\u001b[39m\u001b[38;5;241m.\u001b[39m_assert_active(prepared_ok\u001b[38;5;241m=\u001b[39m\u001b[38;5;28;01mTrue\u001b[39;00m)\n\u001b[1;32m    828\u001b[0m \u001b[38;5;28;01mif\u001b[39;00m \u001b[38;5;28mself\u001b[39m\u001b[38;5;241m.\u001b[39m_state \u001b[38;5;129;01mis\u001b[39;00m \u001b[38;5;129;01mnot\u001b[39;00m PREPARED:\n\u001b[0;32m--> 829\u001b[0m     \u001b[38;5;28;43mself\u001b[39;49m\u001b[38;5;241;43m.\u001b[39;49m\u001b[43m_prepare_impl\u001b[49m\u001b[43m(\u001b[49m\u001b[43m)\u001b[49m\n\u001b[1;32m    831\u001b[0m \u001b[38;5;28;01mif\u001b[39;00m \u001b[38;5;28mself\u001b[39m\u001b[38;5;241m.\u001b[39m_parent \u001b[38;5;129;01mis\u001b[39;00m \u001b[38;5;28;01mNone\u001b[39;00m \u001b[38;5;129;01mor\u001b[39;00m \u001b[38;5;28mself\u001b[39m\u001b[38;5;241m.\u001b[39mnested:\n\u001b[1;32m    832\u001b[0m     \u001b[38;5;28;01mfor\u001b[39;00m conn, trans, should_commit, autoclose \u001b[38;5;129;01min\u001b[39;00m \u001b[38;5;28mset\u001b[39m(\n\u001b[1;32m    833\u001b[0m         \u001b[38;5;28mself\u001b[39m\u001b[38;5;241m.\u001b[39m_connections\u001b[38;5;241m.\u001b[39mvalues()\n\u001b[1;32m    834\u001b[0m     ):\n",
      "File \u001b[0;32m~/opt/anaconda3/envs/dev/lib/python3.10/site-packages/sqlalchemy/orm/session.py:808\u001b[0m, in \u001b[0;36mSessionTransaction._prepare_impl\u001b[0;34m(self)\u001b[0m\n\u001b[1;32m    806\u001b[0m     \u001b[38;5;28;01mif\u001b[39;00m \u001b[38;5;28mself\u001b[39m\u001b[38;5;241m.\u001b[39msession\u001b[38;5;241m.\u001b[39m_is_clean():\n\u001b[1;32m    807\u001b[0m         \u001b[38;5;28;01mbreak\u001b[39;00m\n\u001b[0;32m--> 808\u001b[0m     \u001b[38;5;28;43mself\u001b[39;49m\u001b[38;5;241;43m.\u001b[39;49m\u001b[43msession\u001b[49m\u001b[38;5;241;43m.\u001b[39;49m\u001b[43mflush\u001b[49m\u001b[43m(\u001b[49m\u001b[43m)\u001b[49m\n\u001b[1;32m    809\u001b[0m \u001b[38;5;28;01melse\u001b[39;00m:\n\u001b[1;32m    810\u001b[0m     \u001b[38;5;28;01mraise\u001b[39;00m exc\u001b[38;5;241m.\u001b[39mFlushError(\n\u001b[1;32m    811\u001b[0m         \u001b[38;5;124m\"\u001b[39m\u001b[38;5;124mOver 100 subsequent flushes have occurred within \u001b[39m\u001b[38;5;124m\"\u001b[39m\n\u001b[1;32m    812\u001b[0m         \u001b[38;5;124m\"\u001b[39m\u001b[38;5;124msession.commit() - is an after_flush() hook \u001b[39m\u001b[38;5;124m\"\u001b[39m\n\u001b[1;32m    813\u001b[0m         \u001b[38;5;124m\"\u001b[39m\u001b[38;5;124mcreating new objects?\u001b[39m\u001b[38;5;124m\"\u001b[39m\n\u001b[1;32m    814\u001b[0m     )\n",
      "File \u001b[0;32m~/opt/anaconda3/envs/dev/lib/python3.10/site-packages/sqlalchemy/orm/session.py:3383\u001b[0m, in \u001b[0;36mSession.flush\u001b[0;34m(self, objects)\u001b[0m\n\u001b[1;32m   3381\u001b[0m \u001b[38;5;28;01mtry\u001b[39;00m:\n\u001b[1;32m   3382\u001b[0m     \u001b[38;5;28mself\u001b[39m\u001b[38;5;241m.\u001b[39m_flushing \u001b[38;5;241m=\u001b[39m \u001b[38;5;28;01mTrue\u001b[39;00m\n\u001b[0;32m-> 3383\u001b[0m     \u001b[38;5;28;43mself\u001b[39;49m\u001b[38;5;241;43m.\u001b[39;49m\u001b[43m_flush\u001b[49m\u001b[43m(\u001b[49m\u001b[43mobjects\u001b[49m\u001b[43m)\u001b[49m\n\u001b[1;32m   3384\u001b[0m \u001b[38;5;28;01mfinally\u001b[39;00m:\n\u001b[1;32m   3385\u001b[0m     \u001b[38;5;28mself\u001b[39m\u001b[38;5;241m.\u001b[39m_flushing \u001b[38;5;241m=\u001b[39m \u001b[38;5;28;01mFalse\u001b[39;00m\n",
      "File \u001b[0;32m~/opt/anaconda3/envs/dev/lib/python3.10/site-packages/sqlalchemy/orm/session.py:3522\u001b[0m, in \u001b[0;36mSession._flush\u001b[0;34m(self, objects)\u001b[0m\n\u001b[1;32m   3519\u001b[0m     transaction\u001b[38;5;241m.\u001b[39mcommit()\n\u001b[1;32m   3521\u001b[0m \u001b[38;5;28;01mexcept\u001b[39;00m:\n\u001b[0;32m-> 3522\u001b[0m     \u001b[38;5;28;01mwith\u001b[39;00m util\u001b[38;5;241m.\u001b[39msafe_reraise():\n\u001b[1;32m   3523\u001b[0m         transaction\u001b[38;5;241m.\u001b[39mrollback(_capture_exception\u001b[38;5;241m=\u001b[39m\u001b[38;5;28;01mTrue\u001b[39;00m)\n",
      "File \u001b[0;32m~/opt/anaconda3/envs/dev/lib/python3.10/site-packages/sqlalchemy/util/langhelpers.py:70\u001b[0m, in \u001b[0;36msafe_reraise.__exit__\u001b[0;34m(self, type_, value, traceback)\u001b[0m\n\u001b[1;32m     68\u001b[0m     \u001b[38;5;28mself\u001b[39m\u001b[38;5;241m.\u001b[39m_exc_info \u001b[38;5;241m=\u001b[39m \u001b[38;5;28;01mNone\u001b[39;00m  \u001b[38;5;66;03m# remove potential circular references\u001b[39;00m\n\u001b[1;32m     69\u001b[0m     \u001b[38;5;28;01mif\u001b[39;00m \u001b[38;5;129;01mnot\u001b[39;00m \u001b[38;5;28mself\u001b[39m\u001b[38;5;241m.\u001b[39mwarn_only:\n\u001b[0;32m---> 70\u001b[0m         \u001b[43mcompat\u001b[49m\u001b[38;5;241;43m.\u001b[39;49m\u001b[43mraise_\u001b[49m\u001b[43m(\u001b[49m\n\u001b[1;32m     71\u001b[0m \u001b[43m            \u001b[49m\u001b[43mexc_value\u001b[49m\u001b[43m,\u001b[49m\n\u001b[1;32m     72\u001b[0m \u001b[43m            \u001b[49m\u001b[43mwith_traceback\u001b[49m\u001b[38;5;241;43m=\u001b[39;49m\u001b[43mexc_tb\u001b[49m\u001b[43m,\u001b[49m\n\u001b[1;32m     73\u001b[0m \u001b[43m        \u001b[49m\u001b[43m)\u001b[49m\n\u001b[1;32m     74\u001b[0m \u001b[38;5;28;01melse\u001b[39;00m:\n\u001b[1;32m     75\u001b[0m     \u001b[38;5;28;01mif\u001b[39;00m \u001b[38;5;129;01mnot\u001b[39;00m compat\u001b[38;5;241m.\u001b[39mpy3k \u001b[38;5;129;01mand\u001b[39;00m \u001b[38;5;28mself\u001b[39m\u001b[38;5;241m.\u001b[39m_exc_info \u001b[38;5;129;01mand\u001b[39;00m \u001b[38;5;28mself\u001b[39m\u001b[38;5;241m.\u001b[39m_exc_info[\u001b[38;5;241m1\u001b[39m]:\n\u001b[1;32m     76\u001b[0m         \u001b[38;5;66;03m# emulate Py3K's behavior of telling us when an exception\u001b[39;00m\n\u001b[1;32m     77\u001b[0m         \u001b[38;5;66;03m# occurs in an exception handler.\u001b[39;00m\n",
      "File \u001b[0;32m~/opt/anaconda3/envs/dev/lib/python3.10/site-packages/sqlalchemy/util/compat.py:208\u001b[0m, in \u001b[0;36mraise_\u001b[0;34m(***failed resolving arguments***)\u001b[0m\n\u001b[1;32m    205\u001b[0m     exception\u001b[38;5;241m.\u001b[39m__cause__ \u001b[38;5;241m=\u001b[39m replace_context\n\u001b[1;32m    207\u001b[0m \u001b[38;5;28;01mtry\u001b[39;00m:\n\u001b[0;32m--> 208\u001b[0m     \u001b[38;5;28;01mraise\u001b[39;00m exception\n\u001b[1;32m    209\u001b[0m \u001b[38;5;28;01mfinally\u001b[39;00m:\n\u001b[1;32m    210\u001b[0m     \u001b[38;5;66;03m# credit to\u001b[39;00m\n\u001b[1;32m    211\u001b[0m     \u001b[38;5;66;03m# https://cosmicpercolator.com/2016/01/13/exception-leaks-in-python-2-and-3/\u001b[39;00m\n\u001b[1;32m    212\u001b[0m     \u001b[38;5;66;03m# as the __traceback__ object creates a cycle\u001b[39;00m\n\u001b[1;32m    213\u001b[0m     \u001b[38;5;28;01mdel\u001b[39;00m exception, replace_context, from_, with_traceback\n",
      "File \u001b[0;32m~/opt/anaconda3/envs/dev/lib/python3.10/site-packages/sqlalchemy/orm/session.py:3483\u001b[0m, in \u001b[0;36mSession._flush\u001b[0;34m(self, objects)\u001b[0m\n\u001b[1;32m   3481\u001b[0m \u001b[38;5;28mself\u001b[39m\u001b[38;5;241m.\u001b[39m_warn_on_events \u001b[38;5;241m=\u001b[39m \u001b[38;5;28;01mTrue\u001b[39;00m\n\u001b[1;32m   3482\u001b[0m \u001b[38;5;28;01mtry\u001b[39;00m:\n\u001b[0;32m-> 3483\u001b[0m     \u001b[43mflush_context\u001b[49m\u001b[38;5;241;43m.\u001b[39;49m\u001b[43mexecute\u001b[49m\u001b[43m(\u001b[49m\u001b[43m)\u001b[49m\n\u001b[1;32m   3484\u001b[0m \u001b[38;5;28;01mfinally\u001b[39;00m:\n\u001b[1;32m   3485\u001b[0m     \u001b[38;5;28mself\u001b[39m\u001b[38;5;241m.\u001b[39m_warn_on_events \u001b[38;5;241m=\u001b[39m \u001b[38;5;28;01mFalse\u001b[39;00m\n",
      "File \u001b[0;32m~/opt/anaconda3/envs/dev/lib/python3.10/site-packages/sqlalchemy/orm/unitofwork.py:456\u001b[0m, in \u001b[0;36mUOWTransaction.execute\u001b[0;34m(self)\u001b[0m\n\u001b[1;32m    454\u001b[0m \u001b[38;5;28;01melse\u001b[39;00m:\n\u001b[1;32m    455\u001b[0m     \u001b[38;5;28;01mfor\u001b[39;00m rec \u001b[38;5;129;01min\u001b[39;00m topological\u001b[38;5;241m.\u001b[39msort(\u001b[38;5;28mself\u001b[39m\u001b[38;5;241m.\u001b[39mdependencies, postsort_actions):\n\u001b[0;32m--> 456\u001b[0m         \u001b[43mrec\u001b[49m\u001b[38;5;241;43m.\u001b[39;49m\u001b[43mexecute\u001b[49m\u001b[43m(\u001b[49m\u001b[38;5;28;43mself\u001b[39;49m\u001b[43m)\u001b[49m\n",
      "File \u001b[0;32m~/opt/anaconda3/envs/dev/lib/python3.10/site-packages/sqlalchemy/orm/unitofwork.py:630\u001b[0m, in \u001b[0;36mSaveUpdateAll.execute\u001b[0;34m(self, uow)\u001b[0m\n\u001b[1;32m    628\u001b[0m \u001b[38;5;129m@util\u001b[39m\u001b[38;5;241m.\u001b[39mpreload_module(\u001b[38;5;124m\"\u001b[39m\u001b[38;5;124msqlalchemy.orm.persistence\u001b[39m\u001b[38;5;124m\"\u001b[39m)\n\u001b[1;32m    629\u001b[0m \u001b[38;5;28;01mdef\u001b[39;00m \u001b[38;5;21mexecute\u001b[39m(\u001b[38;5;28mself\u001b[39m, uow):\n\u001b[0;32m--> 630\u001b[0m     \u001b[43mutil\u001b[49m\u001b[38;5;241;43m.\u001b[39;49m\u001b[43mpreloaded\u001b[49m\u001b[38;5;241;43m.\u001b[39;49m\u001b[43morm_persistence\u001b[49m\u001b[38;5;241;43m.\u001b[39;49m\u001b[43msave_obj\u001b[49m\u001b[43m(\u001b[49m\n\u001b[1;32m    631\u001b[0m \u001b[43m        \u001b[49m\u001b[38;5;28;43mself\u001b[39;49m\u001b[38;5;241;43m.\u001b[39;49m\u001b[43mmapper\u001b[49m\u001b[43m,\u001b[49m\n\u001b[1;32m    632\u001b[0m \u001b[43m        \u001b[49m\u001b[43muow\u001b[49m\u001b[38;5;241;43m.\u001b[39;49m\u001b[43mstates_for_mapper_hierarchy\u001b[49m\u001b[43m(\u001b[49m\u001b[38;5;28;43mself\u001b[39;49m\u001b[38;5;241;43m.\u001b[39;49m\u001b[43mmapper\u001b[49m\u001b[43m,\u001b[49m\u001b[43m \u001b[49m\u001b[38;5;28;43;01mFalse\u001b[39;49;00m\u001b[43m,\u001b[49m\u001b[43m \u001b[49m\u001b[38;5;28;43;01mFalse\u001b[39;49;00m\u001b[43m)\u001b[49m\u001b[43m,\u001b[49m\n\u001b[1;32m    633\u001b[0m \u001b[43m        \u001b[49m\u001b[43muow\u001b[49m\u001b[43m,\u001b[49m\n\u001b[1;32m    634\u001b[0m \u001b[43m    \u001b[49m\u001b[43m)\u001b[49m\n",
      "File \u001b[0;32m~/opt/anaconda3/envs/dev/lib/python3.10/site-packages/sqlalchemy/orm/persistence.py:245\u001b[0m, in \u001b[0;36msave_obj\u001b[0;34m(base_mapper, states, uowtransaction, single)\u001b[0m\n\u001b[1;32m    233\u001b[0m     update \u001b[38;5;241m=\u001b[39m _collect_update_commands(\n\u001b[1;32m    234\u001b[0m         uowtransaction, table, states_to_update\n\u001b[1;32m    235\u001b[0m     )\n\u001b[1;32m    237\u001b[0m     _emit_update_statements(\n\u001b[1;32m    238\u001b[0m         base_mapper,\n\u001b[1;32m    239\u001b[0m         uowtransaction,\n\u001b[0;32m   (...)\u001b[0m\n\u001b[1;32m    242\u001b[0m         update,\n\u001b[1;32m    243\u001b[0m     )\n\u001b[0;32m--> 245\u001b[0m     \u001b[43m_emit_insert_statements\u001b[49m\u001b[43m(\u001b[49m\n\u001b[1;32m    246\u001b[0m \u001b[43m        \u001b[49m\u001b[43mbase_mapper\u001b[49m\u001b[43m,\u001b[49m\n\u001b[1;32m    247\u001b[0m \u001b[43m        \u001b[49m\u001b[43muowtransaction\u001b[49m\u001b[43m,\u001b[49m\n\u001b[1;32m    248\u001b[0m \u001b[43m        \u001b[49m\u001b[43mmapper\u001b[49m\u001b[43m,\u001b[49m\n\u001b[1;32m    249\u001b[0m \u001b[43m        \u001b[49m\u001b[43mtable\u001b[49m\u001b[43m,\u001b[49m\n\u001b[1;32m    250\u001b[0m \u001b[43m        \u001b[49m\u001b[43minsert\u001b[49m\u001b[43m,\u001b[49m\n\u001b[1;32m    251\u001b[0m \u001b[43m    \u001b[49m\u001b[43m)\u001b[49m\n\u001b[1;32m    253\u001b[0m _finalize_insert_update_commands(\n\u001b[1;32m    254\u001b[0m     base_mapper,\n\u001b[1;32m    255\u001b[0m     uowtransaction,\n\u001b[0;32m   (...)\u001b[0m\n\u001b[1;32m    271\u001b[0m     ),\n\u001b[1;32m    272\u001b[0m )\n",
      "File \u001b[0;32m~/opt/anaconda3/envs/dev/lib/python3.10/site-packages/sqlalchemy/orm/persistence.py:1097\u001b[0m, in \u001b[0;36m_emit_insert_statements\u001b[0;34m(base_mapper, uowtransaction, mapper, table, insert, bookkeeping)\u001b[0m\n\u001b[1;32m   1094\u001b[0m records \u001b[38;5;241m=\u001b[39m \u001b[38;5;28mlist\u001b[39m(records)\n\u001b[1;32m   1095\u001b[0m multiparams \u001b[38;5;241m=\u001b[39m [rec[\u001b[38;5;241m2\u001b[39m] \u001b[38;5;28;01mfor\u001b[39;00m rec \u001b[38;5;129;01min\u001b[39;00m records]\n\u001b[0;32m-> 1097\u001b[0m c \u001b[38;5;241m=\u001b[39m \u001b[43mconnection\u001b[49m\u001b[38;5;241;43m.\u001b[39;49m\u001b[43m_execute_20\u001b[49m\u001b[43m(\u001b[49m\n\u001b[1;32m   1098\u001b[0m \u001b[43m    \u001b[49m\u001b[43mstatement\u001b[49m\u001b[43m,\u001b[49m\u001b[43m \u001b[49m\u001b[43mmultiparams\u001b[49m\u001b[43m,\u001b[49m\u001b[43m \u001b[49m\u001b[43mexecution_options\u001b[49m\u001b[38;5;241;43m=\u001b[39;49m\u001b[43mexecution_options\u001b[49m\n\u001b[1;32m   1099\u001b[0m \u001b[43m\u001b[49m\u001b[43m)\u001b[49m\n\u001b[1;32m   1101\u001b[0m \u001b[38;5;28;01mif\u001b[39;00m bookkeeping:\n\u001b[1;32m   1102\u001b[0m     \u001b[38;5;28;01mfor\u001b[39;00m (\n\u001b[1;32m   1103\u001b[0m         (\n\u001b[1;32m   1104\u001b[0m             state,\n\u001b[0;32m   (...)\u001b[0m\n\u001b[1;32m   1113\u001b[0m         last_inserted_params,\n\u001b[1;32m   1114\u001b[0m     ) \u001b[38;5;129;01min\u001b[39;00m \u001b[38;5;28mzip\u001b[39m(records, c\u001b[38;5;241m.\u001b[39mcontext\u001b[38;5;241m.\u001b[39mcompiled_parameters):\n",
      "File \u001b[0;32m~/opt/anaconda3/envs/dev/lib/python3.10/site-packages/sqlalchemy/engine/base.py:1631\u001b[0m, in \u001b[0;36mConnection._execute_20\u001b[0;34m(self, statement, parameters, execution_options)\u001b[0m\n\u001b[1;32m   1627\u001b[0m     util\u001b[38;5;241m.\u001b[39mraise_(\n\u001b[1;32m   1628\u001b[0m         exc\u001b[38;5;241m.\u001b[39mObjectNotExecutableError(statement), replace_context\u001b[38;5;241m=\u001b[39merr\n\u001b[1;32m   1629\u001b[0m     )\n\u001b[1;32m   1630\u001b[0m \u001b[38;5;28;01melse\u001b[39;00m:\n\u001b[0;32m-> 1631\u001b[0m     \u001b[38;5;28;01mreturn\u001b[39;00m \u001b[43mmeth\u001b[49m\u001b[43m(\u001b[49m\u001b[38;5;28;43mself\u001b[39;49m\u001b[43m,\u001b[49m\u001b[43m \u001b[49m\u001b[43margs_10style\u001b[49m\u001b[43m,\u001b[49m\u001b[43m \u001b[49m\u001b[43mkwargs_10style\u001b[49m\u001b[43m,\u001b[49m\u001b[43m \u001b[49m\u001b[43mexecution_options\u001b[49m\u001b[43m)\u001b[49m\n",
      "File \u001b[0;32m~/opt/anaconda3/envs/dev/lib/python3.10/site-packages/sqlalchemy/sql/elements.py:332\u001b[0m, in \u001b[0;36mClauseElement._execute_on_connection\u001b[0;34m(self, connection, multiparams, params, execution_options, _force)\u001b[0m\n\u001b[1;32m    328\u001b[0m \u001b[38;5;28;01mdef\u001b[39;00m \u001b[38;5;21m_execute_on_connection\u001b[39m(\n\u001b[1;32m    329\u001b[0m     \u001b[38;5;28mself\u001b[39m, connection, multiparams, params, execution_options, _force\u001b[38;5;241m=\u001b[39m\u001b[38;5;28;01mFalse\u001b[39;00m\n\u001b[1;32m    330\u001b[0m ):\n\u001b[1;32m    331\u001b[0m     \u001b[38;5;28;01mif\u001b[39;00m _force \u001b[38;5;129;01mor\u001b[39;00m \u001b[38;5;28mself\u001b[39m\u001b[38;5;241m.\u001b[39msupports_execution:\n\u001b[0;32m--> 332\u001b[0m         \u001b[38;5;28;01mreturn\u001b[39;00m \u001b[43mconnection\u001b[49m\u001b[38;5;241;43m.\u001b[39;49m\u001b[43m_execute_clauseelement\u001b[49m\u001b[43m(\u001b[49m\n\u001b[1;32m    333\u001b[0m \u001b[43m            \u001b[49m\u001b[38;5;28;43mself\u001b[39;49m\u001b[43m,\u001b[49m\u001b[43m \u001b[49m\u001b[43mmultiparams\u001b[49m\u001b[43m,\u001b[49m\u001b[43m \u001b[49m\u001b[43mparams\u001b[49m\u001b[43m,\u001b[49m\u001b[43m \u001b[49m\u001b[43mexecution_options\u001b[49m\n\u001b[1;32m    334\u001b[0m \u001b[43m        \u001b[49m\u001b[43m)\u001b[49m\n\u001b[1;32m    335\u001b[0m     \u001b[38;5;28;01melse\u001b[39;00m:\n\u001b[1;32m    336\u001b[0m         \u001b[38;5;28;01mraise\u001b[39;00m exc\u001b[38;5;241m.\u001b[39mObjectNotExecutableError(\u001b[38;5;28mself\u001b[39m)\n",
      "File \u001b[0;32m~/opt/anaconda3/envs/dev/lib/python3.10/site-packages/sqlalchemy/engine/base.py:1498\u001b[0m, in \u001b[0;36mConnection._execute_clauseelement\u001b[0;34m(self, elem, multiparams, params, execution_options)\u001b[0m\n\u001b[1;32m   1486\u001b[0m compiled_cache \u001b[38;5;241m=\u001b[39m execution_options\u001b[38;5;241m.\u001b[39mget(\n\u001b[1;32m   1487\u001b[0m     \u001b[38;5;124m\"\u001b[39m\u001b[38;5;124mcompiled_cache\u001b[39m\u001b[38;5;124m\"\u001b[39m, \u001b[38;5;28mself\u001b[39m\u001b[38;5;241m.\u001b[39mengine\u001b[38;5;241m.\u001b[39m_compiled_cache\n\u001b[1;32m   1488\u001b[0m )\n\u001b[1;32m   1490\u001b[0m compiled_sql, extracted_params, cache_hit \u001b[38;5;241m=\u001b[39m elem\u001b[38;5;241m.\u001b[39m_compile_w_cache(\n\u001b[1;32m   1491\u001b[0m     dialect\u001b[38;5;241m=\u001b[39mdialect,\n\u001b[1;32m   1492\u001b[0m     compiled_cache\u001b[38;5;241m=\u001b[39mcompiled_cache,\n\u001b[0;32m   (...)\u001b[0m\n\u001b[1;32m   1496\u001b[0m     linting\u001b[38;5;241m=\u001b[39m\u001b[38;5;28mself\u001b[39m\u001b[38;5;241m.\u001b[39mdialect\u001b[38;5;241m.\u001b[39mcompiler_linting \u001b[38;5;241m|\u001b[39m compiler\u001b[38;5;241m.\u001b[39mWARN_LINTING,\n\u001b[1;32m   1497\u001b[0m )\n\u001b[0;32m-> 1498\u001b[0m ret \u001b[38;5;241m=\u001b[39m \u001b[38;5;28;43mself\u001b[39;49m\u001b[38;5;241;43m.\u001b[39;49m\u001b[43m_execute_context\u001b[49m\u001b[43m(\u001b[49m\n\u001b[1;32m   1499\u001b[0m \u001b[43m    \u001b[49m\u001b[43mdialect\u001b[49m\u001b[43m,\u001b[49m\n\u001b[1;32m   1500\u001b[0m \u001b[43m    \u001b[49m\u001b[43mdialect\u001b[49m\u001b[38;5;241;43m.\u001b[39;49m\u001b[43mexecution_ctx_cls\u001b[49m\u001b[38;5;241;43m.\u001b[39;49m\u001b[43m_init_compiled\u001b[49m\u001b[43m,\u001b[49m\n\u001b[1;32m   1501\u001b[0m \u001b[43m    \u001b[49m\u001b[43mcompiled_sql\u001b[49m\u001b[43m,\u001b[49m\n\u001b[1;32m   1502\u001b[0m \u001b[43m    \u001b[49m\u001b[43mdistilled_params\u001b[49m\u001b[43m,\u001b[49m\n\u001b[1;32m   1503\u001b[0m \u001b[43m    \u001b[49m\u001b[43mexecution_options\u001b[49m\u001b[43m,\u001b[49m\n\u001b[1;32m   1504\u001b[0m \u001b[43m    \u001b[49m\u001b[43mcompiled_sql\u001b[49m\u001b[43m,\u001b[49m\n\u001b[1;32m   1505\u001b[0m \u001b[43m    \u001b[49m\u001b[43mdistilled_params\u001b[49m\u001b[43m,\u001b[49m\n\u001b[1;32m   1506\u001b[0m \u001b[43m    \u001b[49m\u001b[43melem\u001b[49m\u001b[43m,\u001b[49m\n\u001b[1;32m   1507\u001b[0m \u001b[43m    \u001b[49m\u001b[43mextracted_params\u001b[49m\u001b[43m,\u001b[49m\n\u001b[1;32m   1508\u001b[0m \u001b[43m    \u001b[49m\u001b[43mcache_hit\u001b[49m\u001b[38;5;241;43m=\u001b[39;49m\u001b[43mcache_hit\u001b[49m\u001b[43m,\u001b[49m\n\u001b[1;32m   1509\u001b[0m \u001b[43m\u001b[49m\u001b[43m)\u001b[49m\n\u001b[1;32m   1510\u001b[0m \u001b[38;5;28;01mif\u001b[39;00m has_events:\n\u001b[1;32m   1511\u001b[0m     \u001b[38;5;28mself\u001b[39m\u001b[38;5;241m.\u001b[39mdispatch\u001b[38;5;241m.\u001b[39mafter_execute(\n\u001b[1;32m   1512\u001b[0m         \u001b[38;5;28mself\u001b[39m,\n\u001b[1;32m   1513\u001b[0m         elem,\n\u001b[0;32m   (...)\u001b[0m\n\u001b[1;32m   1517\u001b[0m         ret,\n\u001b[1;32m   1518\u001b[0m     )\n",
      "File \u001b[0;32m~/opt/anaconda3/envs/dev/lib/python3.10/site-packages/sqlalchemy/engine/base.py:1862\u001b[0m, in \u001b[0;36mConnection._execute_context\u001b[0;34m(self, dialect, constructor, statement, parameters, execution_options, *args, **kw)\u001b[0m\n\u001b[1;32m   1859\u001b[0m             branched\u001b[38;5;241m.\u001b[39mclose()\n\u001b[1;32m   1861\u001b[0m \u001b[38;5;28;01mexcept\u001b[39;00m \u001b[38;5;167;01mBaseException\u001b[39;00m \u001b[38;5;28;01mas\u001b[39;00m e:\n\u001b[0;32m-> 1862\u001b[0m     \u001b[38;5;28;43mself\u001b[39;49m\u001b[38;5;241;43m.\u001b[39;49m\u001b[43m_handle_dbapi_exception\u001b[49m\u001b[43m(\u001b[49m\n\u001b[1;32m   1863\u001b[0m \u001b[43m        \u001b[49m\u001b[43me\u001b[49m\u001b[43m,\u001b[49m\u001b[43m \u001b[49m\u001b[43mstatement\u001b[49m\u001b[43m,\u001b[49m\u001b[43m \u001b[49m\u001b[43mparameters\u001b[49m\u001b[43m,\u001b[49m\u001b[43m \u001b[49m\u001b[43mcursor\u001b[49m\u001b[43m,\u001b[49m\u001b[43m \u001b[49m\u001b[43mcontext\u001b[49m\n\u001b[1;32m   1864\u001b[0m \u001b[43m    \u001b[49m\u001b[43m)\u001b[49m\n\u001b[1;32m   1866\u001b[0m \u001b[38;5;28;01mreturn\u001b[39;00m result\n",
      "File \u001b[0;32m~/opt/anaconda3/envs/dev/lib/python3.10/site-packages/sqlalchemy/engine/base.py:2043\u001b[0m, in \u001b[0;36mConnection._handle_dbapi_exception\u001b[0;34m(self, e, statement, parameters, cursor, context)\u001b[0m\n\u001b[1;32m   2041\u001b[0m     util\u001b[38;5;241m.\u001b[39mraise_(newraise, with_traceback\u001b[38;5;241m=\u001b[39mexc_info[\u001b[38;5;241m2\u001b[39m], from_\u001b[38;5;241m=\u001b[39me)\n\u001b[1;32m   2042\u001b[0m \u001b[38;5;28;01melif\u001b[39;00m should_wrap:\n\u001b[0;32m-> 2043\u001b[0m     \u001b[43mutil\u001b[49m\u001b[38;5;241;43m.\u001b[39;49m\u001b[43mraise_\u001b[49m\u001b[43m(\u001b[49m\n\u001b[1;32m   2044\u001b[0m \u001b[43m        \u001b[49m\u001b[43msqlalchemy_exception\u001b[49m\u001b[43m,\u001b[49m\u001b[43m \u001b[49m\u001b[43mwith_traceback\u001b[49m\u001b[38;5;241;43m=\u001b[39;49m\u001b[43mexc_info\u001b[49m\u001b[43m[\u001b[49m\u001b[38;5;241;43m2\u001b[39;49m\u001b[43m]\u001b[49m\u001b[43m,\u001b[49m\u001b[43m \u001b[49m\u001b[43mfrom_\u001b[49m\u001b[38;5;241;43m=\u001b[39;49m\u001b[43me\u001b[49m\n\u001b[1;32m   2045\u001b[0m \u001b[43m    \u001b[49m\u001b[43m)\u001b[49m\n\u001b[1;32m   2046\u001b[0m \u001b[38;5;28;01melse\u001b[39;00m:\n\u001b[1;32m   2047\u001b[0m     util\u001b[38;5;241m.\u001b[39mraise_(exc_info[\u001b[38;5;241m1\u001b[39m], with_traceback\u001b[38;5;241m=\u001b[39mexc_info[\u001b[38;5;241m2\u001b[39m])\n",
      "File \u001b[0;32m~/opt/anaconda3/envs/dev/lib/python3.10/site-packages/sqlalchemy/util/compat.py:208\u001b[0m, in \u001b[0;36mraise_\u001b[0;34m(***failed resolving arguments***)\u001b[0m\n\u001b[1;32m    205\u001b[0m     exception\u001b[38;5;241m.\u001b[39m__cause__ \u001b[38;5;241m=\u001b[39m replace_context\n\u001b[1;32m    207\u001b[0m \u001b[38;5;28;01mtry\u001b[39;00m:\n\u001b[0;32m--> 208\u001b[0m     \u001b[38;5;28;01mraise\u001b[39;00m exception\n\u001b[1;32m    209\u001b[0m \u001b[38;5;28;01mfinally\u001b[39;00m:\n\u001b[1;32m    210\u001b[0m     \u001b[38;5;66;03m# credit to\u001b[39;00m\n\u001b[1;32m    211\u001b[0m     \u001b[38;5;66;03m# https://cosmicpercolator.com/2016/01/13/exception-leaks-in-python-2-and-3/\u001b[39;00m\n\u001b[1;32m    212\u001b[0m     \u001b[38;5;66;03m# as the __traceback__ object creates a cycle\u001b[39;00m\n\u001b[1;32m    213\u001b[0m     \u001b[38;5;28;01mdel\u001b[39;00m exception, replace_context, from_, with_traceback\n",
      "File \u001b[0;32m~/opt/anaconda3/envs/dev/lib/python3.10/site-packages/sqlalchemy/engine/base.py:1819\u001b[0m, in \u001b[0;36mConnection._execute_context\u001b[0;34m(self, dialect, constructor, statement, parameters, execution_options, *args, **kw)\u001b[0m\n\u001b[1;32m   1817\u001b[0m                 \u001b[38;5;28;01mbreak\u001b[39;00m\n\u001b[1;32m   1818\u001b[0m     \u001b[38;5;28;01mif\u001b[39;00m \u001b[38;5;129;01mnot\u001b[39;00m evt_handled:\n\u001b[0;32m-> 1819\u001b[0m         \u001b[38;5;28;43mself\u001b[39;49m\u001b[38;5;241;43m.\u001b[39;49m\u001b[43mdialect\u001b[49m\u001b[38;5;241;43m.\u001b[39;49m\u001b[43mdo_execute\u001b[49m\u001b[43m(\u001b[49m\n\u001b[1;32m   1820\u001b[0m \u001b[43m            \u001b[49m\u001b[43mcursor\u001b[49m\u001b[43m,\u001b[49m\u001b[43m \u001b[49m\u001b[43mstatement\u001b[49m\u001b[43m,\u001b[49m\u001b[43m \u001b[49m\u001b[43mparameters\u001b[49m\u001b[43m,\u001b[49m\u001b[43m \u001b[49m\u001b[43mcontext\u001b[49m\n\u001b[1;32m   1821\u001b[0m \u001b[43m        \u001b[49m\u001b[43m)\u001b[49m\n\u001b[1;32m   1823\u001b[0m \u001b[38;5;28;01mif\u001b[39;00m \u001b[38;5;28mself\u001b[39m\u001b[38;5;241m.\u001b[39m_has_events \u001b[38;5;129;01mor\u001b[39;00m \u001b[38;5;28mself\u001b[39m\u001b[38;5;241m.\u001b[39mengine\u001b[38;5;241m.\u001b[39m_has_events:\n\u001b[1;32m   1824\u001b[0m     \u001b[38;5;28mself\u001b[39m\u001b[38;5;241m.\u001b[39mdispatch\u001b[38;5;241m.\u001b[39mafter_cursor_execute(\n\u001b[1;32m   1825\u001b[0m         \u001b[38;5;28mself\u001b[39m,\n\u001b[1;32m   1826\u001b[0m         cursor,\n\u001b[0;32m   (...)\u001b[0m\n\u001b[1;32m   1830\u001b[0m         context\u001b[38;5;241m.\u001b[39mexecutemany,\n\u001b[1;32m   1831\u001b[0m     )\n",
      "File \u001b[0;32m~/opt/anaconda3/envs/dev/lib/python3.10/site-packages/sqlalchemy/engine/default.py:732\u001b[0m, in \u001b[0;36mDefaultDialect.do_execute\u001b[0;34m(self, cursor, statement, parameters, context)\u001b[0m\n\u001b[1;32m    731\u001b[0m \u001b[38;5;28;01mdef\u001b[39;00m \u001b[38;5;21mdo_execute\u001b[39m(\u001b[38;5;28mself\u001b[39m, cursor, statement, parameters, context\u001b[38;5;241m=\u001b[39m\u001b[38;5;28;01mNone\u001b[39;00m):\n\u001b[0;32m--> 732\u001b[0m     \u001b[43mcursor\u001b[49m\u001b[38;5;241;43m.\u001b[39;49m\u001b[43mexecute\u001b[49m\u001b[43m(\u001b[49m\u001b[43mstatement\u001b[49m\u001b[43m,\u001b[49m\u001b[43m \u001b[49m\u001b[43mparameters\u001b[49m\u001b[43m)\u001b[49m\n",
      "\u001b[0;31mIntegrityError\u001b[0m: (sqlite3.IntegrityError) UNIQUE constraint failed: accidents.id\n[SQL: INSERT INTO accidents (id, case_num, veh_num, region, region_num, month, hour, make, passenger_inj, num_injured, alcohol_involved, road_condition, veh_damage) VALUES (?, ?, ?, ?, ?, ?, ?, ?, ?, ?, ?, ?, ?)]\n[parameters: (0, 201901174219, 1, 'South', 3, 'January', '8:00am-8:59am', 'Ford', 'No Apparent Injury (O)', 0, 'No Alcohol Involved', 'Wet', 'Disabling Damage')]\n(Background on this error at: https://sqlalche.me/e/14/gkpj)"
     ]
    }
   ],
   "source": [
    "for i in range(len(data_df.index)):\n",
    "    \n",
    "    # Create instance of the accident\n",
    "    accident = Accident(\n",
    "    id = i,\n",
    "    case_num = int(data_df['CASENUM'][i]),\n",
    "    veh_num = int(data_df['VEH_NO_x'][i]),\n",
    "    region = data_df['REGIONNAME_x'][i],\n",
    "    region_num = int(data_df['REGION_x'][i]),\n",
    "    month = data_df['MONTHNAME_x'][i],\n",
    "    hour = data_df['HOURNAME_x'][i],\n",
    "    make = data_df['MAKENAME_x'][i],\n",
    "    passenger_inj = data_df['MAX_SEVNAME'][i],\n",
    "    num_injured = int(data_df['NUM_INJV'][i]),\n",
    "    alcohol_involved = data_df['VEH_ALCHNAME'][i],\n",
    "    road_condition = data_df['VSURCONDNAME'][i],\n",
    "    veh_damage = data_df['DEFORMEDNAME'][i])\n",
    "    \n",
    "    # Add accident 'i' to the Database\n",
    "    session.add(accident)\n",
    "    # commit object to the Database\n",
    "    session.commit()"
   ]
  },
  {
   "cell_type": "code",
   "execution_count": 47,
   "id": "0f43966b",
   "metadata": {},
   "outputs": [],
   "source": [
    "session.close()"
   ]
  },
  {
   "cell_type": "code",
   "execution_count": null,
   "id": "fd0b445b",
   "metadata": {},
   "outputs": [],
   "source": []
  }
 ],
 "metadata": {
  "kernelspec": {
   "display_name": "Python 3 (ipykernel)",
   "language": "python",
   "name": "python3"
  },
  "language_info": {
   "codemirror_mode": {
    "name": "ipython",
    "version": 3
   },
   "file_extension": ".py",
   "mimetype": "text/x-python",
   "name": "python",
   "nbconvert_exporter": "python",
   "pygments_lexer": "ipython3",
   "version": "3.11.5"
  }
 },
 "nbformat": 4,
 "nbformat_minor": 5
}
