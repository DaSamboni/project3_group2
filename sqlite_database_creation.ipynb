{
 "cells": [
  {
   "cell_type": "code",
   "execution_count": 33,
   "id": "94f50a91",
   "metadata": {},
   "outputs": [],
   "source": [
    "# import SQL Alchemy\n",
    "from sqlalchemy import create_engine\n",
    "\n",
    "# Import and establesh BAse for which classes will be constructed\n",
    "from sqlalchemy.ext.declarative import declarative_base\n",
    "Base = declarative_base()\n",
    "\n",
    "# Python SQL toolkit and Object Relational Mapper\n",
    "import sqlalchemy\n",
    "from sqlalchemy.exc import IntegrityError\n",
    "from sqlalchemy.ext.automap import automap_base\n",
    "\n",
    "# Import modules to declare columns and column data type\n",
    "from sqlalchemy import Column, Integer, String\n",
    "\n",
    "# Import Session to push objects made and query the server.\n",
    "from sqlalchemy.orm import Session\n",
    "\n",
    "import pandas as pd"
   ]
  },
  {
   "cell_type": "code",
   "execution_count": 34,
   "id": "48ceb995",
   "metadata": {},
   "outputs": [],
   "source": [
    "# Create Accident Class\n",
    "class Accident(Base):\n",
    "    __tablename__ = \"accidents\"\n",
    "    id = Column(Integer,primary_key=True)\n",
    "    case_num = Column(Integer)\n",
    "    veh_num = Column(Integer)\n",
    "    region = Column(String)\n",
    "    region_num = Column(Integer)\n",
    "    month = Column(String)\n",
    "    hour = Column(String)\n",
    "    make = Column(String)\n",
    "    passenger_inj = Column(String)\n",
    "    num_injured = Column(Integer)\n",
    "    alcohol_involved = Column(String)\n",
    "    road_condition = Column(String)\n",
    "    veh_damage = Column(String)"
   ]
  },
  {
   "cell_type": "code",
   "execution_count": 35,
   "id": "363037c2",
   "metadata": {},
   "outputs": [],
   "source": [
    "# Create and establish Database Connection\n",
    "engine = create_engine(\"sqlite:///accidents.sqlite\")\n",
    "conn = engine.connect()\n",
    "\n",
    "# Create Accident table within the database\n",
    "Base.metadata.create_all(conn)"
   ]
  },
  {
   "cell_type": "code",
   "execution_count": 36,
   "id": "7df6c474",
   "metadata": {},
   "outputs": [],
   "source": [
    "# Create Session to push the objects made and query the server.\n",
    "session = Session(bind=engine)"
   ]
  },
  {
   "cell_type": "markdown",
   "id": "d25f0d5a",
   "metadata": {},
   "source": [
    "# Reading CSV File "
   ]
  },
  {
   "cell_type": "code",
   "execution_count": 37,
   "id": "dd55f788",
   "metadata": {},
   "outputs": [
    {
     "data": {
      "text/html": [
       "<div>\n",
       "<style scoped>\n",
       "    .dataframe tbody tr th:only-of-type {\n",
       "        vertical-align: middle;\n",
       "    }\n",
       "\n",
       "    .dataframe tbody tr th {\n",
       "        vertical-align: top;\n",
       "    }\n",
       "\n",
       "    .dataframe thead th {\n",
       "        text-align: right;\n",
       "    }\n",
       "</style>\n",
       "<table border=\"1\" class=\"dataframe\">\n",
       "  <thead>\n",
       "    <tr style=\"text-align: right;\">\n",
       "      <th></th>\n",
       "      <th>Unnamed: 0</th>\n",
       "      <th>CASENUM</th>\n",
       "      <th>VEH_NO_x</th>\n",
       "      <th>REGIONNAME_x</th>\n",
       "      <th>REGION_x</th>\n",
       "      <th>HOURNAME_x</th>\n",
       "      <th>MONTHNAME_x</th>\n",
       "      <th>MAKENAME_x</th>\n",
       "      <th>MAX_SEVNAME</th>\n",
       "      <th>NUM_INJV</th>\n",
       "      <th>VEH_ALCHNAME</th>\n",
       "      <th>VSURCONDNAME</th>\n",
       "    </tr>\n",
       "  </thead>\n",
       "  <tbody>\n",
       "    <tr>\n",
       "      <th>0</th>\n",
       "      <td>0</td>\n",
       "      <td>201901174219</td>\n",
       "      <td>1</td>\n",
       "      <td>South (MD, DE, DC, WV, VA, KY, TN, NC, SC, GA,...</td>\n",
       "      <td>3</td>\n",
       "      <td>8:00am-8:59am</td>\n",
       "      <td>January</td>\n",
       "      <td>Ford</td>\n",
       "      <td>No Apparent Injury (O)</td>\n",
       "      <td>0</td>\n",
       "      <td>No Alcohol Involved</td>\n",
       "      <td>Wet</td>\n",
       "    </tr>\n",
       "    <tr>\n",
       "      <th>1</th>\n",
       "      <td>1</td>\n",
       "      <td>201901176655</td>\n",
       "      <td>1</td>\n",
       "      <td>South (MD, DE, DC, WV, VA, KY, TN, NC, SC, GA,...</td>\n",
       "      <td>3</td>\n",
       "      <td>2:00am-2:59am</td>\n",
       "      <td>January</td>\n",
       "      <td>Dodge</td>\n",
       "      <td>Possible Injury (C)</td>\n",
       "      <td>1</td>\n",
       "      <td>Reported as Unknown</td>\n",
       "      <td>Dry</td>\n",
       "    </tr>\n",
       "    <tr>\n",
       "      <th>2</th>\n",
       "      <td>13</td>\n",
       "      <td>201901176667</td>\n",
       "      <td>1</td>\n",
       "      <td>South (MD, DE, DC, WV, VA, KY, TN, NC, SC, GA,...</td>\n",
       "      <td>3</td>\n",
       "      <td>5:00am-5:59am</td>\n",
       "      <td>January</td>\n",
       "      <td>Nissan/Datsun</td>\n",
       "      <td>Suspected Minor Injury (B)</td>\n",
       "      <td>1</td>\n",
       "      <td>Alcohol Involved</td>\n",
       "      <td>Dry</td>\n",
       "    </tr>\n",
       "    <tr>\n",
       "      <th>3</th>\n",
       "      <td>17</td>\n",
       "      <td>201901176694</td>\n",
       "      <td>1</td>\n",
       "      <td>South (MD, DE, DC, WV, VA, KY, TN, NC, SC, GA,...</td>\n",
       "      <td>3</td>\n",
       "      <td>4:00am-4:59am</td>\n",
       "      <td>January</td>\n",
       "      <td>Mazda</td>\n",
       "      <td>No Apparent Injury (O)</td>\n",
       "      <td>0</td>\n",
       "      <td>No Alcohol Involved</td>\n",
       "      <td>Dry</td>\n",
       "    </tr>\n",
       "    <tr>\n",
       "      <th>4</th>\n",
       "      <td>18</td>\n",
       "      <td>201901176702</td>\n",
       "      <td>1</td>\n",
       "      <td>South (MD, DE, DC, WV, VA, KY, TN, NC, SC, GA,...</td>\n",
       "      <td>3</td>\n",
       "      <td>9:00am-9:59am</td>\n",
       "      <td>January</td>\n",
       "      <td>Toyota</td>\n",
       "      <td>Possible Injury (C)</td>\n",
       "      <td>0</td>\n",
       "      <td>No Alcohol Involved</td>\n",
       "      <td>Dry</td>\n",
       "    </tr>\n",
       "  </tbody>\n",
       "</table>\n",
       "</div>"
      ],
      "text/plain": [
       "   Unnamed: 0       CASENUM  VEH_NO_x  \\\n",
       "0           0  201901174219         1   \n",
       "1           1  201901176655         1   \n",
       "2          13  201901176667         1   \n",
       "3          17  201901176694         1   \n",
       "4          18  201901176702         1   \n",
       "\n",
       "                                        REGIONNAME_x  REGION_x     HOURNAME_x  \\\n",
       "0  South (MD, DE, DC, WV, VA, KY, TN, NC, SC, GA,...         3  8:00am-8:59am   \n",
       "1  South (MD, DE, DC, WV, VA, KY, TN, NC, SC, GA,...         3  2:00am-2:59am   \n",
       "2  South (MD, DE, DC, WV, VA, KY, TN, NC, SC, GA,...         3  5:00am-5:59am   \n",
       "3  South (MD, DE, DC, WV, VA, KY, TN, NC, SC, GA,...         3  4:00am-4:59am   \n",
       "4  South (MD, DE, DC, WV, VA, KY, TN, NC, SC, GA,...         3  9:00am-9:59am   \n",
       "\n",
       "  MONTHNAME_x     MAKENAME_x                 MAX_SEVNAME  NUM_INJV  \\\n",
       "0     January           Ford      No Apparent Injury (O)         0   \n",
       "1     January          Dodge         Possible Injury (C)         1   \n",
       "2     January  Nissan/Datsun  Suspected Minor Injury (B)         1   \n",
       "3     January          Mazda      No Apparent Injury (O)         0   \n",
       "4     January         Toyota         Possible Injury (C)         0   \n",
       "\n",
       "          VEH_ALCHNAME VSURCONDNAME  \n",
       "0  No Alcohol Involved          Wet  \n",
       "1  Reported as Unknown          Dry  \n",
       "2     Alcohol Involved          Dry  \n",
       "3  No Alcohol Involved          Dry  \n",
       "4  No Alcohol Involved          Dry  "
      ]
     },
     "execution_count": 37,
     "metadata": {},
     "output_type": "execute_result"
    }
   ],
   "source": [
    "path = \"Resources/final_merge.csv\"\n",
    "data = pd.read_csv(path)\n",
    "data_df = pd.DataFrame(data)\n",
    "data_df.head()"
   ]
  },
  {
   "cell_type": "code",
   "execution_count": 38,
   "id": "53e8b827",
   "metadata": {},
   "outputs": [
    {
     "data": {
      "text/plain": [
       "array(['South (MD, DE, DC, WV, VA, KY, TN, NC, SC, GA, FL, AL, MS, LA, AR, OK, TX)',\n",
       "       'West (MT, ID, WA, OR, CA, NV, NM, AZ, UT, CO, WY, AK, HI)',\n",
       "       'Midwest (OH, IN, IL, MI, WI, MN, ND, SD, NE, IA, MO, KS)',\n",
       "       'Northeast (PA, NJ, NY, NH, VT, RI, MA, ME, CT)'], dtype=object)"
      ]
     },
     "execution_count": 38,
     "metadata": {},
     "output_type": "execute_result"
    }
   ],
   "source": [
    "regions = data_df['REGIONNAME_x'].unique()\n",
    "regions"
   ]
  },
  {
   "cell_type": "code",
   "execution_count": 40,
   "id": "51dd4f72",
   "metadata": {},
   "outputs": [
    {
     "data": {
      "text/plain": [
       "array(['South', 'West', 'Mid West', 'North East'], dtype=object)"
      ]
     },
     "execution_count": 40,
     "metadata": {},
     "output_type": "execute_result"
    }
   ],
   "source": [
    "# Clean RegionName of the list of states for each region\n",
    "region_name = data_df['REGIONNAME_x']\n",
    "for i in range(len(data_df['REGIONNAME_x'])):\n",
    "    row = data_df['REGIONNAME_x'][i]\n",
    "    if row == regions[0]:\n",
    "        region_name[i] = \"South\"\n",
    "    elif row == regions[1]:\n",
    "        region_name[i] = \"West\"\n",
    "    elif row == regions[2]:\n",
    "        region_name[i] = \"Mid West\"\n",
    "    elif row == regions[3]:\n",
    "        region_name[i] = \"North East\"\n",
    "region_name.unique()"
   ]
  },
  {
   "cell_type": "code",
   "execution_count": 41,
   "id": "6efc8844",
   "metadata": {},
   "outputs": [
    {
     "data": {
      "text/plain": [
       "array(['South', 'West', 'Mid West', 'North East'], dtype=object)"
      ]
     },
     "execution_count": 41,
     "metadata": {},
     "output_type": "execute_result"
    }
   ],
   "source": [
    "# Assessing the region_name to the correct column in the DataFrame\n",
    "data_df['REGIONNAME_x'] = region_name\n",
    "data_df['REGIONNAME_x'].unique()"
   ]
  },
  {
   "cell_type": "code",
   "execution_count": 42,
   "id": "7623e2a8",
   "metadata": {},
   "outputs": [
    {
     "data": {
      "text/plain": [
       "Unnamed: 0       int64\n",
       "CASENUM          int64\n",
       "VEH_NO_x         int64\n",
       "REGIONNAME_x    object\n",
       "REGION_x         int64\n",
       "HOURNAME_x      object\n",
       "MONTHNAME_x     object\n",
       "MAKENAME_x      object\n",
       "MAX_SEVNAME     object\n",
       "NUM_INJV         int64\n",
       "VEH_ALCHNAME    object\n",
       "VSURCONDNAME    object\n",
       "dtype: object"
      ]
     },
     "execution_count": 42,
     "metadata": {},
     "output_type": "execute_result"
    }
   ],
   "source": [
    "data_df.dtypes"
   ]
  },
  {
   "cell_type": "code",
   "execution_count": 43,
   "id": "51278a6b",
   "metadata": {},
   "outputs": [
    {
     "name": "stdout",
     "output_type": "stream",
     "text": [
      "{'Unnamed: 0': array([     0,      1,     13, ..., 166498, 166499, 166503])}\n",
      "{'CASENUM': array([201901174219, 201901176655, 201901176667, ..., 201901848683,\n",
      "       201901848693, 201901848697])}\n",
      "{'VEH_NO_x': array([1, 2, 3, 4])}\n",
      "{'REGIONNAME_x': array(['South', 'West', 'Mid West', 'North East'], dtype=object)}\n",
      "{'REGION_x': array([3, 4, 2, 1])}\n",
      "{'HOURNAME_x': array(['8:00am-8:59am', '2:00am-2:59am', '5:00am-5:59am', '4:00am-4:59am',\n",
      "       '9:00am-9:59am', '7:00pm-7:59pm', '12:00pm-12:59pm',\n",
      "       '6:00am-6:59am', '10:00am-10:59am', '11:00am-11:59am',\n",
      "       '1:00am-1:59am', '1:00pm-1:59pm', '6:00pm-6:59pm', '3:00pm-3:59pm',\n",
      "       '10:00pm-10:59pm', '2:00pm-2:59pm', '5:00pm-5:59pm',\n",
      "       'Unknown Hours', '3:00am-3:59am', '4:00pm-4:59pm', '7:00am-7:59am',\n",
      "       '8:00pm-8:59pm', '11:00pm-11:59pm', '9:00pm-9:59pm',\n",
      "       '0:00am-0:59am'], dtype=object)}\n",
      "{'MONTHNAME_x': array(['January', 'February', 'March', 'April', 'May', 'June', 'July',\n",
      "       'August', 'September'], dtype=object)}\n",
      "{'MAKENAME_x': array(['Ford', 'Dodge', 'Nissan/Datsun', 'Mazda', 'Toyota', 'Volvo',\n",
      "       'Chevrolet', 'Jeep / Kaiser-Jeep / Willys- Jeep', 'Infiniti',\n",
      "       'Acura', 'Volkswagen', 'Peterbilt', 'Honda', 'Unknown Make',\n",
      "       'Lexus', 'Freightliner', 'Mercury', 'Chrysler', 'Buick / Opel',\n",
      "       'Suzuki', 'Subaru', 'Mack', 'AM General', 'Pontiac', 'KIA', 'GMC',\n",
      "       'Land Rover', 'Hyundai', 'Lincoln', 'BMW', 'Mitsubishi',\n",
      "       'Cadillac', 'Oldsmobile', 'Mercedes-Benz',\n",
      "       'International Harvester/Navistar', 'Kawasaki', 'Fiat',\n",
      "       'Not Reported', 'Other Make', 'Harley-Davidson', 'Other Import',\n",
      "       'Kenworth', 'Isuzu', 'Audi', 'Saturn', 'Gillig', 'Smart',\n",
      "       'Bluebird', 'Yamaha', 'Thomas Built', 'Scion',\n",
      "       'Other Domestic Manufacturers', 'MCI', 'Jaguar', 'Ducati', 'Saab',\n",
      "       'Porsche', 'Plymouth', 'Triumph', 'Victory',\n",
      "       'White/Autocar White/GMC', 'Grumman', 'Alfa Romeo',\n",
      "       'American Motors'], dtype=object)}\n",
      "{'MAX_SEVNAME': array(['No Apparent Injury (O)', 'Possible Injury (C)',\n",
      "       'Suspected Minor Injury (B)', 'Suspected Serious Injury (A)',\n",
      "       'Fatal Injury (K)', 'Died Prior to Crash*', 'Unknown/Not Reported',\n",
      "       'Injured, Severity Unknown'], dtype=object)}\n",
      "{'NUM_INJV': array([ 0,  1, 99,  2,  6,  3,  7, 98,  5,  4,  8])}\n",
      "{'VEH_ALCHNAME': array(['No Alcohol Involved', 'Reported as Unknown', 'Alcohol Involved',\n",
      "       'No Driver Present'], dtype=object)}\n",
      "{'VSURCONDNAME': array(['Wet', 'Dry', 'Non-Trafficway or Driveway Access', 'Ice/Frost',\n",
      "       'Not Reported', 'Reported as Unknown', 'Snow', 'Slush',\n",
      "       'Mud, Dirt or Gravel', 'Water (Standing or Moving)', 'Other',\n",
      "       'Sand', 'Oil'], dtype=object)}\n"
     ]
    }
   ],
   "source": [
    "for column in data.columns:\n",
    "    print({column: data[column].unique()})"
   ]
  },
  {
   "cell_type": "markdown",
   "id": "75222759",
   "metadata": {},
   "source": [
    "# From DataFrame to Database"
   ]
  },
  {
   "cell_type": "code",
   "execution_count": 44,
   "id": "ec6644ce",
   "metadata": {},
   "outputs": [],
   "source": [
    "for i in range(len(data_df.index)):\n",
    "    \n",
    "    # Create instance of the accident\n",
    "    accident = Accident(\n",
    "    id = i,\n",
    "    case_num = int(data_df['CASENUM'][i]),\n",
    "    veh_num = int(data_df['VEH_NO_x'][i]),\n",
    "    region = data_df['REGIONNAME_x'][i],\n",
    "    region_num = int(data_df['REGION_x'][i]),\n",
    "    month = data_df['MONTHNAME_x'][i],\n",
    "    hour = data_df['HOURNAME_x'][i],\n",
    "    make = data_df['MAKENAME_x'][i],\n",
    "    passenger_inj = data_df['MAX_SEVNAME'][i],\n",
    "    num_injured = int(data_df['NUM_INJV'][i]),\n",
    "    alcohol_involved = data_df['VEH_ALCHNAME'][i],\n",
    "    road_condition = data_df['VSURCONDNAME'][i],)\n",
    "    \n",
    "    # Add accident 'i' to the Database\n",
    "    session.add(accident)"
   ]
  },
  {
   "cell_type": "code",
   "execution_count": 50,
   "id": "2ca62879",
   "metadata": {},
   "outputs": [],
   "source": [
    "    # commit object to the Database\n",
    "    try:\n",
    "        session.commit()\n",
    "    except exc.InternalError:\n",
    "        session.rollback()\n",
    "        session.commit()\n",
    "    except:\n",
    "        session.rollback()\n",
    "        raise\n",
    "    finally:\n",
    "        session.close()"
   ]
  },
  {
   "cell_type": "code",
   "execution_count": null,
   "id": "75d01dcc",
   "metadata": {},
   "outputs": [],
   "source": []
  },
  {
   "cell_type": "code",
   "execution_count": null,
   "id": "fd0b445b",
   "metadata": {},
   "outputs": [],
   "source": []
  }
 ],
 "metadata": {
  "kernelspec": {
   "display_name": "Python 3 (ipykernel)",
   "language": "python",
   "name": "python3"
  },
  "language_info": {
   "codemirror_mode": {
    "name": "ipython",
    "version": 3
   },
   "file_extension": ".py",
   "mimetype": "text/x-python",
   "name": "python",
   "nbconvert_exporter": "python",
   "pygments_lexer": "ipython3",
   "version": "3.10.13"
  }
 },
 "nbformat": 4,
 "nbformat_minor": 5
}
